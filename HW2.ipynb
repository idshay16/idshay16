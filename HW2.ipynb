{
  "nbformat": 4,
  "nbformat_minor": 0,
  "metadata": {
    "colab": {
      "provenance": [],
      "gpuType": "V28",
      "include_colab_link": true
    },
    "kernelspec": {
      "name": "python3",
      "display_name": "Python 3"
    },
    "language_info": {
      "name": "python"
    },
    "accelerator": "TPU"
  },
  "cells": [
    {
      "cell_type": "markdown",
      "metadata": {
        "id": "view-in-github",
        "colab_type": "text"
      },
      "source": [
        "<a href=\"https://colab.research.google.com/github/idshay16/idshay16/blob/main/HW2.ipynb\" target=\"_parent\"><img src=\"https://colab.research.google.com/assets/colab-badge.svg\" alt=\"Open In Colab\"/></a>"
      ]
    },
    {
      "cell_type": "markdown",
      "source": [
        "# Imports and Package installations"
      ],
      "metadata": {
        "id": "dcnWzreI_3vK"
      }
    },
    {
      "cell_type": "code",
      "source": [
        "# pip installs\n",
        "!pip install firebase\n",
        "!pip install gradio\n",
        "!pip install paho-mqtt\n",
        "\n",
        "#================================= make sure all pip installs are above this line ============================================\n",
        "\n",
        "# import to clear the installation code output\n",
        "from IPython.display import clear_output\n",
        "clear_output()"
      ],
      "metadata": {
        "id": "jVQsBoLZs6zd"
      },
      "execution_count": null,
      "outputs": []
    },
    {
      "cell_type": "code",
      "source": [
        "#imports\n",
        "import gradio as gr\n",
        "import json\n",
        "import time\n",
        "from firebase import firebase\n",
        "import paho.mqtt.client as mqtt"
      ],
      "metadata": {
        "id": "stAxnFFt27_y"
      },
      "execution_count": null,
      "outputs": []
    },
    {
      "cell_type": "markdown",
      "source": [
        "# Admin panel functions"
      ],
      "metadata": {
        "id": "NX3opH8Nr0qq"
      }
    },
    {
      "cell_type": "code",
      "source": [],
      "metadata": {
        "id": "Qo04PSwNr5qw"
      },
      "execution_count": null,
      "outputs": []
    },
    {
      "cell_type": "markdown",
      "source": [
        "# Index and search engine"
      ],
      "metadata": {
        "id": "IHJCMr7qrwDZ"
      }
    },
    {
      "cell_type": "code",
      "source": [],
      "metadata": {
        "id": "tu4wr_EOr5Si"
      },
      "execution_count": null,
      "outputs": []
    },
    {
      "cell_type": "markdown",
      "source": [
        "# Sensor data caching and processing"
      ],
      "metadata": {
        "id": "Hcrgrrw_qF5N"
      }
    },
    {
      "cell_type": "code",
      "execution_count": null,
      "metadata": {
        "id": "LUN71RiATiOl",
        "colab": {
          "base_uri": "https://localhost:8080/"
        },
        "outputId": "2a717f95-0aba-43d2-cceb-9cbdf150ba5d"
      },
      "outputs": [
        {
          "output_type": "stream",
          "name": "stderr",
          "text": [
            "<ipython-input-3-34e88a20705c>:66: DeprecationWarning: Callback API version 1 is deprecated, update to latest version\n",
            "  client = mqtt.Client()\n"
          ]
        },
        {
          "output_type": "stream",
          "name": "stdout",
          "text": [
            "Unexpected disconnection (error code: 7). Attempting to reconnect number 1 in 5 seconds...\n",
            "Unexpected disconnection (error code: 7). Attempting to reconnect number 2 in 5 seconds...\n",
            "Unexpected disconnection (error code: 7). Attempting to reconnect number 3 in 5 seconds...\n",
            "Unexpected disconnection (error code: 7). Attempting to reconnect number 4 in 5 seconds...\n",
            "Unexpected disconnection (error code: 7). Attempting to reconnect number 5 in 5 seconds...\n",
            "Unexpected disconnection (error code: 7). Attempting to reconnect number 1 in 5 seconds...\n",
            "Unexpected disconnection (error code: 7). Attempting to reconnect number 2 in 5 seconds...\n",
            "Unexpected disconnection (error code: 7). Attempting to reconnect number 3 in 5 seconds...\n",
            "Unexpected disconnection (error code: 7). Attempting to reconnect number 4 in 5 seconds...\n",
            "Unexpected disconnection (error code: 7). Attempting to reconnect number 5 in 5 seconds...\n",
            "Unexpected disconnection (error code: 7). Attempting to reconnect number 1 in 5 seconds...\n",
            "Unexpected disconnection (error code: 7). Attempting to reconnect number 2 in 5 seconds...\n",
            "Unexpected disconnection (error code: 7). Attempting to reconnect number 3 in 5 seconds...\n",
            "Unexpected disconnection (error code: 7). Attempting to reconnect number 4 in 5 seconds...\n",
            "Unexpected disconnection (error code: 7). Attempting to reconnect number 5 in 5 seconds...\n",
            "Unexpected disconnection (error code: 7). Attempting to reconnect number 1 in 5 seconds...\n",
            "Unexpected disconnection (error code: 7). Attempting to reconnect number 2 in 5 seconds...\n",
            "Unexpected disconnection (error code: 7). Attempting to reconnect number 3 in 5 seconds...\n",
            "Unexpected disconnection (error code: 7). Attempting to reconnect number 4 in 5 seconds...\n",
            "Unexpected disconnection (error code: 7). Attempting to reconnect number 5 in 5 seconds...\n",
            "Unexpected disconnection (error code: 7). Attempting to reconnect number 1 in 5 seconds...\n",
            "Unexpected disconnection (error code: 7). Attempting to reconnect number 2 in 5 seconds...\n",
            "Unexpected disconnection (error code: 7). Attempting to reconnect number 3 in 5 seconds...\n",
            "Unexpected disconnection (error code: 7). Attempting to reconnect number 4 in 5 seconds...\n",
            "Unexpected disconnection (error code: 7). Attempting to reconnect number 5 in 5 seconds...\n",
            "Unexpected disconnection (error code: 7). Attempting to reconnect number 1 in 5 seconds...\n",
            "Unexpected disconnection (error code: 7). Attempting to reconnect number 2 in 5 seconds...\n",
            "Unexpected disconnection (error code: 7). Attempting to reconnect number 3 in 5 seconds...\n",
            "Unexpected disconnection (error code: 7). Attempting to reconnect number 4 in 5 seconds...\n",
            "Unexpected disconnection (error code: 7). Attempting to reconnect number 5 in 5 seconds...\n",
            "Unexpected disconnection (error code: 7). Attempting to reconnect number 1 in 5 seconds...\n",
            "Unexpected disconnection (error code: 7). Attempting to reconnect number 2 in 5 seconds...\n",
            "Unexpected disconnection (error code: 7). Attempting to reconnect number 3 in 5 seconds...\n",
            "Unexpected disconnection (error code: 7). Attempting to reconnect number 4 in 5 seconds...\n",
            "Unexpected disconnection (error code: 7). Attempting to reconnect number 5 in 5 seconds...\n"
          ]
        }
      ],
      "source": [
        "# Data proccessing\n",
        "#def process_data(data):\n",
        "\n",
        "\n",
        "# Data saving in DB\n",
        "# def send_to_db(data):\n",
        "#   return\n",
        "\n",
        "# create an mqtt connection\n",
        "def on_connect(client, userdata, flags, rc):\n",
        "  if rc == 0:\n",
        "    print(\"Connected to MQTT Broker!\\nSubscribing to topics\")\n",
        "\n",
        "    # Subscribe to the relevant topics\n",
        "    client.subscribe(\"braude/D106/indoor\")\n",
        "    client.subscribe(\"braude/D106/outdoor\")\n",
        "\n",
        "    print(\"Successfully subscribed to topics!\")\n",
        "  else:\n",
        "    print(f\"Failed to connect, return code {rc}\")\n",
        "\n",
        "def on_disconnect(client, userdata, rc):\n",
        "  if rc != 0:\n",
        "    for i in range(5):\n",
        "      print(f\"Unexpected disconnection (error code: {rc}). Attempting to reconnect number {i + 1} in 5 seconds...\")\n",
        "      time.sleep(5)\n",
        "      try:\n",
        "        client.reconnect()\n",
        "      except Exception as e:\n",
        "        print(f\"Reconnection attempt failed: {e}\")\n",
        "\n",
        "def on_message(client, userdata, msg):\n",
        "\n",
        "  topic = msg.topic\n",
        "  payload = msg.payload.decode('utf-8')  # Decode the byte string to a string\n",
        "\n",
        "  print(f\"Received JSON message on topic '{topic}': {payload}\")\n",
        "\n",
        "  try:\n",
        "    sensor_data = json.loads(payload)\n",
        "    print(f\"Parsed JSON data: {sensor_data}\")\n",
        "\n",
        "#==============   replace with \"proccess data\" later =================\n",
        "    if topic == \"braude/D106/indoor\":\n",
        "      temperature = sensor_data.get(\"Humidity\")\n",
        "      humidity = sensor_data.get(\"Temperature\")\n",
        "      pressure = sensor_data.get(\"Pressure\")\n",
        "      distance = sensor_data.get(\"Distance\")\n",
        "      if temperature is not None:\n",
        "        print(f\"Temperature: {temperature}°C\")\n",
        "      if humidity is not None:\n",
        "        print(f\"Humidity: {humidity}%\")\n",
        "      if pressure is not None:\n",
        "        print(f\"Pressure: {pressure} hPa\")\n",
        "      if distance is not None:\n",
        "        print(f\"Pressure: {distance} cm\")\n",
        "\n",
        "    elif topic == \"braude/D106/outdoor\":\n",
        "      dlight = sensor_data.get(\"dlight\")\n",
        "\n",
        "      if dlight is not None:\n",
        "        print(f\"dlight: {dlight}\")\n",
        "\n",
        "  except json.JSONDecodeError as e:\n",
        "    print(f\"Error decoding JSON: {e}\")\n",
        "    print(f\"Problematic payload: {payload}\")\n",
        "\n",
        "# connect to the MQTT publisher\n",
        "client = mqtt.Client()\n",
        "client.on_connect = on_connect\n",
        "client.on_disconnect = on_disconnect\n",
        "client.on_message = on_message\n",
        "client.connect(\"test.mosquitto.org\", 1883, keepalive = 600)\n",
        "client.loop_start()\n",
        "\n",
        "time.sleep(7200)\n",
        "\n",
        "client.loop_stop()\n",
        "client.disconnect()"
      ]
    },
    {
      "cell_type": "markdown",
      "source": [
        "# Screens"
      ],
      "metadata": {
        "id": "YwHW4vX0rsJm"
      }
    },
    {
      "cell_type": "code",
      "source": [
        "# Sensor data pulling from DB\n",
        "\n",
        "\n",
        "# Data visualization\n",
        "\n"
      ],
      "metadata": {
        "id": "FWaIWGy0rCBG"
      },
      "execution_count": null,
      "outputs": []
    }
  ]
}